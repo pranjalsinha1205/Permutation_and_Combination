{
  "nbformat": 4,
  "nbformat_minor": 0,
  "metadata": {
    "colab": {
      "provenance": [],
      "authorship_tag": "ABX9TyNjaSvyAghAKMo+nr+FItDa",
      "include_colab_link": true
    },
    "kernelspec": {
      "name": "python3",
      "display_name": "Python 3"
    },
    "language_info": {
      "name": "python"
    }
  },
  "cells": [
    {
      "cell_type": "markdown",
      "metadata": {
        "id": "view-in-github",
        "colab_type": "text"
      },
      "source": [
        "<a href=\"https://colab.research.google.com/github/pranjalsinha1205/Permutation_and_Combination/blob/main/Permutation_and_Combination.ipynb\" target=\"_parent\"><img src=\"https://colab.research.google.com/assets/colab-badge.svg\" alt=\"Open In Colab\"/></a>"
      ]
    },
    {
      "cell_type": "code",
      "execution_count": 8,
      "metadata": {
        "id": "XyH08upAZtnR"
      },
      "outputs": [],
      "source": [
        "def per():\n",
        "     while True:\n",
        "          try:  \n",
        "               n = int(input(\"Enter n: \"))\n",
        "               r = int(input(\"Enter r: \"))\n",
        "               num = 1\n",
        "               den = 1\n",
        "               for i in range(1, n+1):\n",
        "                       num *= i\n",
        "               for j in range(1,n-r+1):\n",
        "                       den *= j\n",
        "               return 'The permutation is '+str(num/den)\n",
        "          except ValueError:\n",
        "               print('Only integers are allowed')\n",
        "\n",
        "def com():\n",
        "     while True:\n",
        "          try:\n",
        "               n = int(input(\"Enter n: \"))\n",
        "               r = int(input(\"Enter r: \"))\n",
        "               num = 1\n",
        "               den = 1\n",
        "               for i in range(1,n+1):\n",
        "                       num *= i\n",
        "               for j in range(1,n-r+1):\n",
        "                       den *= j\n",
        "               for k in range(1,r+1):\n",
        "                       den *= k\n",
        "               return 'The combination is '+str(num/den)\n",
        "          except ValueError:\n",
        "               print('Only integers are allowed')\n",
        "\n",
        "def pnc():\n",
        "     print(\"Choose 'p' for permutation and 'c' for combination\")\n",
        "     while True:\n",
        "             x = input(\"\\nYour choice? \")\n",
        "             if x not in ['p','c']:\n",
        "                     print(\"\\nWrong input! Try again!\")\n",
        "             else:\n",
        "                     if x == 'p':\n",
        "                             print(\"So you have chosen permutation, I see\")\n",
        "                             return per()\n",
        "                     elif x == 'c':\n",
        "                             print(\"So you have chosen combination, I see\")\n",
        "                             return com()\n"
      ]
    },
    {
      "cell_type": "code",
      "source": [
        "pnc()"
      ],
      "metadata": {
        "colab": {
          "base_uri": "https://localhost:8080/",
          "height": 331
        },
        "id": "W1JevPj1aKT4",
        "outputId": "946c0b7e-c541-49c8-ac2c-4f9f57b3081c"
      },
      "execution_count": 9,
      "outputs": [
        {
          "name": "stdout",
          "output_type": "stream",
          "text": [
            "Choose 'p' for permutation and 'c' for combination\n",
            "\n",
            "Your choice? l\n",
            "\n",
            "Wrong input! Try again!\n",
            "\n",
            "Your choice? p\n",
            "So you have chosen permutation, I see\n",
            "Enter n: o\n",
            "Only integers are allowed\n",
            "Enter n: i\n",
            "Only integers are allowed\n",
            "Enter n: 8\n",
            "Enter r: i\n",
            "Only integers are allowed\n",
            "Enter n: 7\n",
            "Enter r: 7\n"
          ]
        },
        {
          "output_type": "execute_result",
          "data": {
            "text/plain": [
              "'The permutation is 5040.0'"
            ],
            "application/vnd.google.colaboratory.intrinsic+json": {
              "type": "string"
            }
          },
          "metadata": {},
          "execution_count": 9
        }
      ]
    }
  ]
}